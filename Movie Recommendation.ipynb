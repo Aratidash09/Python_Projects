{
 "cells": [
  {
   "cell_type": "markdown",
   "id": "8e33a934-2549-4b11-9fe0-18e80d3a4a61",
   "metadata": {},
   "source": [
    "# Movie Recommendation Project"
   ]
  },
  {
   "cell_type": "markdown",
   "id": "4fddbc4f-0284-4df4-a248-3e025c80c7c7",
   "metadata": {},
   "source": [
    "#Objectives: The objective of a movie recommendation system is to predict and suggest movies to users based on their preferences, behavior,\n",
    "and interactions. This system aims to provide personalized recommendations that enhance the user experience by suggesting movies\n",
    "they are likely to enjoy."
   ]
  },
  {
   "cell_type": "markdown",
   "id": "10faea47-4061-456d-8f56-1abae802c086",
   "metadata": {},
   "source": [
    "#Data Source: I have collected from given youtube link and their given github link"
   ]
  },
  {
   "cell_type": "code",
   "execution_count": 6,
   "id": "abc2ebe7-5182-43c5-a326-92e980b98bbd",
   "metadata": {},
   "outputs": [],
   "source": [
    "import pandas as pd"
   ]
  },
  {
   "cell_type": "code",
   "execution_count": 7,
   "id": "ade78053-ab99-46ab-b383-9406f0354da4",
   "metadata": {},
   "outputs": [],
   "source": [
    "import numpy as np"
   ]
  },
  {
   "cell_type": "code",
   "execution_count": 8,
   "id": "dd9c3378-836d-4673-9f98-8d23a61ec28d",
   "metadata": {},
   "outputs": [],
   "source": [
    "dta = pd.read_csv(\"D:/Arati/Data Analyst/Python (Jupyter Notebook)/Movie Recommendation Project - 1/Movies Recommendation.csv\")"
   ]
  },
  {
   "cell_type": "code",
   "execution_count": 9,
   "id": "cf93fd4d-2c91-48c8-bd44-c7d937ef977a",
   "metadata": {
    "scrolled": true
   },
   "outputs": [
    {
     "data": {
      "text/html": [
       "<div>\n",
       "<style scoped>\n",
       "    .dataframe tbody tr th:only-of-type {\n",
       "        vertical-align: middle;\n",
       "    }\n",
       "\n",
       "    .dataframe tbody tr th {\n",
       "        vertical-align: top;\n",
       "    }\n",
       "\n",
       "    .dataframe thead th {\n",
       "        text-align: right;\n",
       "    }\n",
       "</style>\n",
       "<table border=\"1\" class=\"dataframe\">\n",
       "  <thead>\n",
       "    <tr style=\"text-align: right;\">\n",
       "      <th></th>\n",
       "      <th>Movie_ID</th>\n",
       "      <th>Movie_Title</th>\n",
       "      <th>Movie_Genre</th>\n",
       "      <th>Movie_Language</th>\n",
       "      <th>Movie_Budget</th>\n",
       "      <th>Movie_Popularity</th>\n",
       "      <th>Movie_Release_Date</th>\n",
       "      <th>Movie_Revenue</th>\n",
       "      <th>Movie_Runtime</th>\n",
       "      <th>Movie_Vote</th>\n",
       "      <th>Movie_Vote_Count</th>\n",
       "      <th>Movie_Homepage</th>\n",
       "      <th>Movie_Keywords</th>\n",
       "      <th>Movie_Director</th>\n",
       "    </tr>\n",
       "  </thead>\n",
       "  <tbody>\n",
       "    <tr>\n",
       "      <th>0</th>\n",
       "      <td>1.0</td>\n",
       "      <td>Four Rooms</td>\n",
       "      <td>Crime Comedy</td>\n",
       "      <td>en</td>\n",
       "      <td>4000000.0</td>\n",
       "      <td>22.876230</td>\n",
       "      <td>9/12/1995</td>\n",
       "      <td>4300000.0</td>\n",
       "      <td>98.0</td>\n",
       "      <td>6.5</td>\n",
       "      <td>530.0</td>\n",
       "      <td>NaN</td>\n",
       "      <td>hotel new year's eve witch bet hotel room</td>\n",
       "      <td>Allison Anders</td>\n",
       "    </tr>\n",
       "    <tr>\n",
       "      <th>1</th>\n",
       "      <td>2.0</td>\n",
       "      <td>Star Wars</td>\n",
       "      <td>Adventure Action Science Fiction</td>\n",
       "      <td>en</td>\n",
       "      <td>11000000.0</td>\n",
       "      <td>126.393695</td>\n",
       "      <td>25-05-1977</td>\n",
       "      <td>775398007.0</td>\n",
       "      <td>121.0</td>\n",
       "      <td>8.1</td>\n",
       "      <td>6624.0</td>\n",
       "      <td>http://www.starwars.com/films/star-wars-episod...</td>\n",
       "      <td>android galaxy hermit death star lightsaber</td>\n",
       "      <td>George Lucas</td>\n",
       "    </tr>\n",
       "    <tr>\n",
       "      <th>2</th>\n",
       "      <td>3.0</td>\n",
       "      <td>Finding Nemo</td>\n",
       "      <td>Animation Family</td>\n",
       "      <td>en</td>\n",
       "      <td>94000000.0</td>\n",
       "      <td>85.688789</td>\n",
       "      <td>30-05-2003</td>\n",
       "      <td>940335536.0</td>\n",
       "      <td>100.0</td>\n",
       "      <td>7.6</td>\n",
       "      <td>6122.0</td>\n",
       "      <td>http://movies.disney.com/finding-nemo</td>\n",
       "      <td>father son relationship harbor underwater fish...</td>\n",
       "      <td>Andrew Stanton</td>\n",
       "    </tr>\n",
       "    <tr>\n",
       "      <th>3</th>\n",
       "      <td>4.0</td>\n",
       "      <td>Forrest Gump</td>\n",
       "      <td>Comedy Drama Romance</td>\n",
       "      <td>en</td>\n",
       "      <td>55000000.0</td>\n",
       "      <td>138.133331</td>\n",
       "      <td>6/7/1994</td>\n",
       "      <td>677945399.0</td>\n",
       "      <td>142.0</td>\n",
       "      <td>8.2</td>\n",
       "      <td>7927.0</td>\n",
       "      <td>NaN</td>\n",
       "      <td>vietnam veteran hippie mentally disabled runni...</td>\n",
       "      <td>Robert Zemeckis</td>\n",
       "    </tr>\n",
       "    <tr>\n",
       "      <th>4</th>\n",
       "      <td>5.0</td>\n",
       "      <td>American Beauty</td>\n",
       "      <td>Drama</td>\n",
       "      <td>en</td>\n",
       "      <td>15000000.0</td>\n",
       "      <td>80.878605</td>\n",
       "      <td>15-09-1999</td>\n",
       "      <td>356296601.0</td>\n",
       "      <td>122.0</td>\n",
       "      <td>7.9</td>\n",
       "      <td>3313.0</td>\n",
       "      <td>http://www.dreamworks.com/ab/</td>\n",
       "      <td>male nudity female nudity adultery midlife cri...</td>\n",
       "      <td>Sam Mendes</td>\n",
       "    </tr>\n",
       "    <tr>\n",
       "      <th>5</th>\n",
       "      <td>6.0</td>\n",
       "      <td>Dancer in the Dark</td>\n",
       "      <td>Drama Crime Music</td>\n",
       "      <td>en</td>\n",
       "      <td>12800000.0</td>\n",
       "      <td>22.022228</td>\n",
       "      <td>17-05-2000</td>\n",
       "      <td>40031879.0</td>\n",
       "      <td>140.0</td>\n",
       "      <td>7.6</td>\n",
       "      <td>377.0</td>\n",
       "      <td>NaN</td>\n",
       "      <td>individual dancing usa robbery factory worker</td>\n",
       "      <td>Lars von Trier</td>\n",
       "    </tr>\n",
       "    <tr>\n",
       "      <th>6</th>\n",
       "      <td>7.0</td>\n",
       "      <td>The Fifth Element</td>\n",
       "      <td>Adventure Fantasy Action Thriller Science Fiction</td>\n",
       "      <td>en</td>\n",
       "      <td>90000000.0</td>\n",
       "      <td>109.528572</td>\n",
       "      <td>7/5/1997</td>\n",
       "      <td>263920180.0</td>\n",
       "      <td>126.0</td>\n",
       "      <td>7.3</td>\n",
       "      <td>3885.0</td>\n",
       "      <td>NaN</td>\n",
       "      <td>clone taxi cyborg egypt future</td>\n",
       "      <td>Luc Besson</td>\n",
       "    </tr>\n",
       "    <tr>\n",
       "      <th>7</th>\n",
       "      <td>8.0</td>\n",
       "      <td>Metropolis</td>\n",
       "      <td>Drama Science Fiction</td>\n",
       "      <td>de</td>\n",
       "      <td>92620000.0</td>\n",
       "      <td>32.351527</td>\n",
       "      <td>10/1/1927</td>\n",
       "      <td>650422.0</td>\n",
       "      <td>153.0</td>\n",
       "      <td>8.0</td>\n",
       "      <td>657.0</td>\n",
       "      <td>NaN</td>\n",
       "      <td>man vs machine underground world inventor metr...</td>\n",
       "      <td>Fritz Lang</td>\n",
       "    </tr>\n",
       "    <tr>\n",
       "      <th>8</th>\n",
       "      <td>9.0</td>\n",
       "      <td>My Life Without Me</td>\n",
       "      <td>Drama Romance</td>\n",
       "      <td>en</td>\n",
       "      <td>4000000.0</td>\n",
       "      <td>7.958831</td>\n",
       "      <td>7/3/2003</td>\n",
       "      <td>9726954.0</td>\n",
       "      <td>106.0</td>\n",
       "      <td>7.2</td>\n",
       "      <td>77.0</td>\n",
       "      <td>http://www.clubcultura.com/clubcine/clubcineas...</td>\n",
       "      <td>farewell responsability dying and death night ...</td>\n",
       "      <td>Isabel Coixet</td>\n",
       "    </tr>\n",
       "    <tr>\n",
       "      <th>9</th>\n",
       "      <td>10.0</td>\n",
       "      <td>Pirates of the Caribbean: The Curse of the Bla...</td>\n",
       "      <td>Adventure Fantasy Action</td>\n",
       "      <td>en</td>\n",
       "      <td>140000000.0</td>\n",
       "      <td>271.972889</td>\n",
       "      <td>9/7/2003</td>\n",
       "      <td>655011224.0</td>\n",
       "      <td>143.0</td>\n",
       "      <td>7.5</td>\n",
       "      <td>6985.0</td>\n",
       "      <td>http://disney.go.com/disneyvideos/liveaction/p...</td>\n",
       "      <td>exotic island blacksmith east india trading co...</td>\n",
       "      <td>Gore Verbinski</td>\n",
       "    </tr>\n",
       "  </tbody>\n",
       "</table>\n",
       "</div>"
      ],
      "text/plain": [
       "   Movie_ID                                        Movie_Title  \\\n",
       "0       1.0                                         Four Rooms   \n",
       "1       2.0                                          Star Wars   \n",
       "2       3.0                                       Finding Nemo   \n",
       "3       4.0                                       Forrest Gump   \n",
       "4       5.0                                    American Beauty   \n",
       "5       6.0                                 Dancer in the Dark   \n",
       "6       7.0                                  The Fifth Element   \n",
       "7       8.0                                         Metropolis   \n",
       "8       9.0                                 My Life Without Me   \n",
       "9      10.0  Pirates of the Caribbean: The Curse of the Bla...   \n",
       "\n",
       "                                         Movie_Genre Movie_Language  \\\n",
       "0                                       Crime Comedy             en   \n",
       "1                   Adventure Action Science Fiction             en   \n",
       "2                                   Animation Family             en   \n",
       "3                               Comedy Drama Romance             en   \n",
       "4                                              Drama             en   \n",
       "5                                  Drama Crime Music             en   \n",
       "6  Adventure Fantasy Action Thriller Science Fiction             en   \n",
       "7                              Drama Science Fiction             de   \n",
       "8                                      Drama Romance             en   \n",
       "9                           Adventure Fantasy Action             en   \n",
       "\n",
       "   Movie_Budget  Movie_Popularity Movie_Release_Date  Movie_Revenue  \\\n",
       "0     4000000.0         22.876230          9/12/1995      4300000.0   \n",
       "1    11000000.0        126.393695         25-05-1977    775398007.0   \n",
       "2    94000000.0         85.688789         30-05-2003    940335536.0   \n",
       "3    55000000.0        138.133331           6/7/1994    677945399.0   \n",
       "4    15000000.0         80.878605         15-09-1999    356296601.0   \n",
       "5    12800000.0         22.022228         17-05-2000     40031879.0   \n",
       "6    90000000.0        109.528572           7/5/1997    263920180.0   \n",
       "7    92620000.0         32.351527          10/1/1927       650422.0   \n",
       "8     4000000.0          7.958831           7/3/2003      9726954.0   \n",
       "9   140000000.0        271.972889           9/7/2003    655011224.0   \n",
       "\n",
       "   Movie_Runtime  Movie_Vote  Movie_Vote_Count  \\\n",
       "0           98.0         6.5             530.0   \n",
       "1          121.0         8.1            6624.0   \n",
       "2          100.0         7.6            6122.0   \n",
       "3          142.0         8.2            7927.0   \n",
       "4          122.0         7.9            3313.0   \n",
       "5          140.0         7.6             377.0   \n",
       "6          126.0         7.3            3885.0   \n",
       "7          153.0         8.0             657.0   \n",
       "8          106.0         7.2              77.0   \n",
       "9          143.0         7.5            6985.0   \n",
       "\n",
       "                                      Movie_Homepage  \\\n",
       "0                                                NaN   \n",
       "1  http://www.starwars.com/films/star-wars-episod...   \n",
       "2              http://movies.disney.com/finding-nemo   \n",
       "3                                                NaN   \n",
       "4                      http://www.dreamworks.com/ab/   \n",
       "5                                                NaN   \n",
       "6                                                NaN   \n",
       "7                                                NaN   \n",
       "8  http://www.clubcultura.com/clubcine/clubcineas...   \n",
       "9  http://disney.go.com/disneyvideos/liveaction/p...   \n",
       "\n",
       "                                      Movie_Keywords   Movie_Director  \n",
       "0          hotel new year's eve witch bet hotel room   Allison Anders  \n",
       "1        android galaxy hermit death star lightsaber     George Lucas  \n",
       "2  father son relationship harbor underwater fish...   Andrew Stanton  \n",
       "3  vietnam veteran hippie mentally disabled runni...  Robert Zemeckis  \n",
       "4  male nudity female nudity adultery midlife cri...       Sam Mendes  \n",
       "5      individual dancing usa robbery factory worker   Lars von Trier  \n",
       "6                     clone taxi cyborg egypt future       Luc Besson  \n",
       "7  man vs machine underground world inventor metr...       Fritz Lang  \n",
       "8  farewell responsability dying and death night ...    Isabel Coixet  \n",
       "9  exotic island blacksmith east india trading co...   Gore Verbinski  "
      ]
     },
     "execution_count": 9,
     "metadata": {},
     "output_type": "execute_result"
    }
   ],
   "source": [
    "dta_short = dta.head(10)\n",
    "dta_short"
   ]
  },
  {
   "cell_type": "code",
   "execution_count": 10,
   "id": "db2caff2-7e1f-4d0c-b113-bdfa1b4a78f7",
   "metadata": {},
   "outputs": [
    {
     "name": "stdout",
     "output_type": "stream",
     "text": [
      "<class 'pandas.core.frame.DataFrame'>\n",
      "RangeIndex: 4766 entries, 0 to 4765\n",
      "Data columns (total 14 columns):\n",
      " #   Column              Non-Null Count  Dtype  \n",
      "---  ------              --------------  -----  \n",
      " 0   Movie_ID            4760 non-null   float64\n",
      " 1   Movie_Title         4760 non-null   object \n",
      " 2   Movie_Genre         4760 non-null   object \n",
      " 3   Movie_Language      4760 non-null   object \n",
      " 4   Movie_Budget        4760 non-null   float64\n",
      " 5   Movie_Popularity    4760 non-null   float64\n",
      " 6   Movie_Release_Date  4760 non-null   object \n",
      " 7   Movie_Revenue       4760 non-null   float64\n",
      " 8   Movie_Runtime       4758 non-null   float64\n",
      " 9   Movie_Vote          4760 non-null   float64\n",
      " 10  Movie_Vote_Count    4760 non-null   float64\n",
      " 11  Movie_Homepage      1699 non-null   object \n",
      " 12  Movie_Keywords      4373 non-null   object \n",
      " 13  Movie_Director      4738 non-null   object \n",
      "dtypes: float64(7), object(7)\n",
      "memory usage: 521.4+ KB\n"
     ]
    }
   ],
   "source": [
    "dta.info()"
   ]
  },
  {
   "cell_type": "code",
   "execution_count": 24,
   "id": "6956ba41-1670-4291-a38d-4b14f396df83",
   "metadata": {},
   "outputs": [
    {
     "data": {
      "text/html": [
       "<div>\n",
       "<style scoped>\n",
       "    .dataframe tbody tr th:only-of-type {\n",
       "        vertical-align: middle;\n",
       "    }\n",
       "\n",
       "    .dataframe tbody tr th {\n",
       "        vertical-align: top;\n",
       "    }\n",
       "\n",
       "    .dataframe thead th {\n",
       "        text-align: right;\n",
       "    }\n",
       "</style>\n",
       "<table border=\"1\" class=\"dataframe\">\n",
       "  <thead>\n",
       "    <tr style=\"text-align: right;\">\n",
       "      <th></th>\n",
       "      <th>Movie_ID</th>\n",
       "      <th>Movie_Title</th>\n",
       "      <th>Movie_Genre</th>\n",
       "      <th>Movie_Language</th>\n",
       "      <th>Movie_Budget</th>\n",
       "      <th>Movie_Popularity</th>\n",
       "      <th>Movie_Release_Date</th>\n",
       "      <th>Movie_Revenue</th>\n",
       "      <th>Movie_Runtime</th>\n",
       "      <th>Movie_Vote</th>\n",
       "      <th>Movie_Vote_Count</th>\n",
       "      <th>Movie_Homepage</th>\n",
       "      <th>Movie_Keywords</th>\n",
       "      <th>Movie_Director</th>\n",
       "    </tr>\n",
       "  </thead>\n",
       "  <tbody>\n",
       "    <tr>\n",
       "      <th>0</th>\n",
       "      <td>1.0</td>\n",
       "      <td>Four Rooms</td>\n",
       "      <td>Crime Comedy</td>\n",
       "      <td>en</td>\n",
       "      <td>4000000.0</td>\n",
       "      <td>22.87623</td>\n",
       "      <td>9/12/1995</td>\n",
       "      <td>4300000.0</td>\n",
       "      <td>98.0</td>\n",
       "      <td>6.5</td>\n",
       "      <td>530.0</td>\n",
       "      <td></td>\n",
       "      <td>hotel new year's eve witch bet hotel room</td>\n",
       "      <td>Allison Anders</td>\n",
       "    </tr>\n",
       "    <tr>\n",
       "      <th>1</th>\n",
       "      <td>2.0</td>\n",
       "      <td>Star Wars</td>\n",
       "      <td>Adventure Action Science Fiction</td>\n",
       "      <td>en</td>\n",
       "      <td>11000000.0</td>\n",
       "      <td>126.393695</td>\n",
       "      <td>25-05-1977</td>\n",
       "      <td>775398007.0</td>\n",
       "      <td>121.0</td>\n",
       "      <td>8.1</td>\n",
       "      <td>6624.0</td>\n",
       "      <td>http://www.starwars.com/films/star-wars-episod...</td>\n",
       "      <td>android galaxy hermit death star lightsaber</td>\n",
       "      <td>George Lucas</td>\n",
       "    </tr>\n",
       "    <tr>\n",
       "      <th>2</th>\n",
       "      <td>3.0</td>\n",
       "      <td>Finding Nemo</td>\n",
       "      <td>Animation Family</td>\n",
       "      <td>en</td>\n",
       "      <td>94000000.0</td>\n",
       "      <td>85.688789</td>\n",
       "      <td>30-05-2003</td>\n",
       "      <td>940335536.0</td>\n",
       "      <td>100.0</td>\n",
       "      <td>7.6</td>\n",
       "      <td>6122.0</td>\n",
       "      <td>http://movies.disney.com/finding-nemo</td>\n",
       "      <td>father son relationship harbor underwater fish...</td>\n",
       "      <td>Andrew Stanton</td>\n",
       "    </tr>\n",
       "    <tr>\n",
       "      <th>3</th>\n",
       "      <td>4.0</td>\n",
       "      <td>Forrest Gump</td>\n",
       "      <td>Comedy Drama Romance</td>\n",
       "      <td>en</td>\n",
       "      <td>55000000.0</td>\n",
       "      <td>138.133331</td>\n",
       "      <td>6/7/1994</td>\n",
       "      <td>677945399.0</td>\n",
       "      <td>142.0</td>\n",
       "      <td>8.2</td>\n",
       "      <td>7927.0</td>\n",
       "      <td></td>\n",
       "      <td>vietnam veteran hippie mentally disabled runni...</td>\n",
       "      <td>Robert Zemeckis</td>\n",
       "    </tr>\n",
       "    <tr>\n",
       "      <th>4</th>\n",
       "      <td>5.0</td>\n",
       "      <td>American Beauty</td>\n",
       "      <td>Drama</td>\n",
       "      <td>en</td>\n",
       "      <td>15000000.0</td>\n",
       "      <td>80.878605</td>\n",
       "      <td>15-09-1999</td>\n",
       "      <td>356296601.0</td>\n",
       "      <td>122.0</td>\n",
       "      <td>7.9</td>\n",
       "      <td>3313.0</td>\n",
       "      <td>http://www.dreamworks.com/ab/</td>\n",
       "      <td>male nudity female nudity adultery midlife cri...</td>\n",
       "      <td>Sam Mendes</td>\n",
       "    </tr>\n",
       "  </tbody>\n",
       "</table>\n",
       "</div>"
      ],
      "text/plain": [
       "  Movie_ID      Movie_Title                       Movie_Genre Movie_Language  \\\n",
       "0      1.0       Four Rooms                      Crime Comedy             en   \n",
       "1      2.0        Star Wars  Adventure Action Science Fiction             en   \n",
       "2      3.0     Finding Nemo                  Animation Family             en   \n",
       "3      4.0     Forrest Gump              Comedy Drama Romance             en   \n",
       "4      5.0  American Beauty                             Drama             en   \n",
       "\n",
       "  Movie_Budget Movie_Popularity Movie_Release_Date Movie_Revenue  \\\n",
       "0    4000000.0         22.87623          9/12/1995     4300000.0   \n",
       "1   11000000.0       126.393695         25-05-1977   775398007.0   \n",
       "2   94000000.0        85.688789         30-05-2003   940335536.0   \n",
       "3   55000000.0       138.133331           6/7/1994   677945399.0   \n",
       "4   15000000.0        80.878605         15-09-1999   356296601.0   \n",
       "\n",
       "  Movie_Runtime Movie_Vote Movie_Vote_Count  \\\n",
       "0          98.0        6.5            530.0   \n",
       "1         121.0        8.1           6624.0   \n",
       "2         100.0        7.6           6122.0   \n",
       "3         142.0        8.2           7927.0   \n",
       "4         122.0        7.9           3313.0   \n",
       "\n",
       "                                      Movie_Homepage  \\\n",
       "0                                                      \n",
       "1  http://www.starwars.com/films/star-wars-episod...   \n",
       "2              http://movies.disney.com/finding-nemo   \n",
       "3                                                      \n",
       "4                      http://www.dreamworks.com/ab/   \n",
       "\n",
       "                                      Movie_Keywords   Movie_Director  \n",
       "0          hotel new year's eve witch bet hotel room   Allison Anders  \n",
       "1        android galaxy hermit death star lightsaber     George Lucas  \n",
       "2  father son relationship harbor underwater fish...   Andrew Stanton  \n",
       "3  vietnam veteran hippie mentally disabled runni...  Robert Zemeckis  \n",
       "4  male nudity female nudity adultery midlife cri...       Sam Mendes  "
      ]
     },
     "execution_count": 24,
     "metadata": {},
     "output_type": "execute_result"
    }
   ],
   "source": [
    "dta.fillna(' ', inplace = True)\n",
    "dta.head(5)"
   ]
  },
  {
   "cell_type": "code",
   "execution_count": 13,
   "id": "ff8f7653-b3f8-4dee-b56f-5fd2ec38f6c1",
   "metadata": {},
   "outputs": [
    {
     "name": "stdout",
     "output_type": "stream",
     "text": [
      "Movie_ID              0\n",
      "Movie_Title           0\n",
      "Movie_Genre           0\n",
      "Movie_Language        0\n",
      "Movie_Budget          0\n",
      "Movie_Popularity      0\n",
      "Movie_Release_Date    0\n",
      "Movie_Revenue         0\n",
      "Movie_Runtime         0\n",
      "Movie_Vote            0\n",
      "Movie_Vote_Count      0\n",
      "Movie_Homepage        0\n",
      "Movie_Keywords        0\n",
      "Movie_Director        0\n",
      "dtype: int64\n"
     ]
    }
   ],
   "source": [
    "print(dta.isnull().sum())\n"
   ]
  },
  {
   "cell_type": "markdown",
   "id": "9ceaf68f-b375-425f-b044-51730b58302c",
   "metadata": {},
   "source": [
    "# Analysis"
   ]
  },
  {
   "cell_type": "code",
   "execution_count": 25,
   "id": "1c24018d-e642-4633-be34-678f146647df",
   "metadata": {},
   "outputs": [],
   "source": [
    "import matplotlib.pyplot as plt\n",
    "import seaborn as sbn"
   ]
  },
  {
   "cell_type": "code",
   "execution_count": 26,
   "id": "55395ea3-72aa-4a3c-9253-4e94313f0b51",
   "metadata": {},
   "outputs": [
    {
     "name": "stdout",
     "output_type": "stream",
     "text": [
      "total movies : 4758\n",
      "total moviees per genre :\n",
      "Drama                   368\n",
      "Comedy                  282\n",
      "Drama Romance           164\n",
      "Comedy Romance          143\n",
      "Comedy Drama            142\n",
      "Comedy Drama Romance    109\n",
      "Horror Thriller          87\n",
      "Documentary              68\n",
      "Horror                   64\n",
      "Drama Thriller           62\n",
      "dtype: int64\n"
     ]
    }
   ],
   "source": [
    "total_movies = dta['Movie_Title'].nunique()\n",
    "mv_genres = dta['Movie_Genre'].str.get_dummies(sep=',').sum().sort_values(ascending=False)\n",
    "genres = mv_genres.head(10)\n",
    "\n",
    "print(f'total movies : {total_movies}')\n",
    "print(f'total moviees per genre :')\n",
    "print(genres)"
   ]
  },
  {
   "cell_type": "code",
   "execution_count": 70,
   "id": "b042f383-590f-4147-83df-377e09a1a233",
   "metadata": {},
   "outputs": [
    {
     "data": {
      "image/png": "[encoded data removed]",
      "text/plain": [
       "<Figure size 1000x600 with 1 Axes>"
      ]
     },
     "metadata": {},
     "output_type": "display_data"
    }
   ],
   "source": [
    "plt.figure(figsize=(10, 6))\n",
    "genres.plot(kind= 'bar' )\n",
    "plt.title('Number of Movies per Genre')\n",
    "plt.xlabel('Genre')\n",
    "plt.ylabel('Number of Movies')\n",
    "\n",
    "for i, value in enumerate(genres):\n",
    "    plt.text(i, value + 1, str(value), ha='center', va='bottom', fontsize=10)\n",
    "plt.show()"
   ]
  },
  {
   "cell_type": "code",
   "execution_count": 33,
   "id": "019f8572-b6c4-41d2-8d52-a0dc8a29e4eb",
   "metadata": {},
   "outputs": [
    {
     "name": "stdout",
     "output_type": "stream",
     "text": [
      "\n",
      "Average revenue per genre:\n",
      "Movie_Genre\n",
      "Family Fantasy Adventure                             1.025491e+09\n",
      "Drama Action Crime Thriller                          1.004558e+09\n",
      "Family Adventure Drama Fantasy                       9.665506e+08\n",
      "Adventure Fantasy Family Mystery                     9.382127e+08\n",
      "Animation Comedy Adventure Family                    8.772448e+08\n",
      "Drama Comedy Animation Family                        8.576112e+08\n",
      "Action Thriller Science Fiction Mystery Adventure    8.255328e+08\n",
      "Science Fiction Adventure Family Fantasy             7.929106e+08\n",
      "Family Animation Drama                               7.882418e+08\n",
      "Adventure Fantasy Family                             7.832243e+08\n",
      "Name: Movie_Revenue, dtype: float64\n"
     ]
    }
   ],
   "source": [
    "dta['Movie_Revenue'] = pd.to_numeric(dta['Movie_Revenue'], errors='coerce')\n",
    "genre_revenue = dta.groupby('Movie_Genre')['Movie_Revenue'].mean().sort_values(ascending=False)\n",
    "print(\"\\nAverage revenue per genre:\")\n",
    "revenue_genre = genre_revenue.head(10).sort_values(ascending=False)\n",
    "print(revenue_genre)"
   ]
  },
  {
   "cell_type": "code",
   "execution_count": 69,
   "id": "e2b243fc-f8f0-487b-88f4-f9adad0903a2",
   "metadata": {},
   "outputs": [
    {
     "data": {
      "image/png": "[encoded data removed]",
      "text/plain": [
       "<Figure size 1000x600 with 1 Axes>"
      ]
     },
     "metadata": {},
     "output_type": "display_data"
    }
   ],
   "source": [
    "plt.figure(figsize=(10, 6))\n",
    "sbn.scatterplot(data=dta_short, x='Movie_Budget', y='Movie_Revenue')\n",
    "plt.title('Budget vs Revenue')\n",
    "plt.xlabel('Budget (in millions)')\n",
    "plt.ylabel('Revenue (in millions)')\n",
    "plt.show()"
   ]
  },
  {
   "cell_type": "code",
   "execution_count": 65,
   "id": "5ffe13c2-4973-4895-a40f-4b7d3883c064",
   "metadata": {},
   "outputs": [
    {
     "data": {
      "text/plain": [
       "Release_Year\n",
       "2004.0     86\n",
       "2005.0     98\n",
       "2006.0    103\n",
       "2007.0     81\n",
       "2008.0    104\n",
       "2009.0    101\n",
       "2010.0    102\n",
       "2011.0     82\n",
       "2012.0     83\n",
       "2013.0     89\n",
       "2014.0     95\n",
       "2015.0     84\n",
       "2016.0     46\n",
       "2017.0      1\n",
       "Name: count, dtype: int64"
      ]
     },
     "execution_count": 65,
     "metadata": {},
     "output_type": "execute_result"
    }
   ],
   "source": [
    "dta['Movie_Release_Date'] = pd.to_datetime(dta['Movie_Release_Date'], errors='coerce')\n",
    "dta['Release_Year'] = dta['Movie_Release_Date'].dt.year\n",
    "\n",
    "current_year = pd.Timestamp.now().year\n",
    "last_20_years = dta[dta['Release_Year'] >= (current_year - 20)]\n",
    "\n",
    "movies_per_year = last_20_years['Release_Year'].value_counts().sort_index()\n",
    "movies_per_year"
   ]
  },
  {
   "cell_type": "code",
   "execution_count": 67,
   "id": "e51d1937-e460-4319-b006-f6198eaa35a6",
   "metadata": {},
   "outputs": [
    {
     "data": {
      "image/png": "[encoded data removed]",
      "text/plain": [
       "<Figure size 1000x600 with 1 Axes>"
      ]
     },
     "metadata": {},
     "output_type": "display_data"
    }
   ],
   "source": [
    "plt.figure(figsize=(10, 6))\n",
    "movies_per_year.plot(kind='bar')\n",
    "plt.title('Number of Movies Released per Year (Last 20 Years)')\n",
    "plt.xlabel('Year')\n",
    "plt.ylabel('Number of Movies')\n",
    "plt.xticks(rotation=45)\n",
    "\n",
    "for i, value in enumerate(movies_per_year):\n",
    "    plt.text(i, value + 1, str(value), ha='center', va='bottom', fontsize=10)\n",
    "plt.show()"
   ]
  },
  {
   "cell_type": "code",
   "execution_count": 31,
   "id": "c4680f27-6576-4be1-9166-2a6b2a00fd78",
   "metadata": {},
   "outputs": [
    {
     "name": "stdout",
     "output_type": "stream",
     "text": [
      "0       6.5\n",
      "1       8.1\n",
      "2       7.6\n",
      "3       8.2\n",
      "4       7.9\n",
      "       ... \n",
      "4761    0.0\n",
      "4762    7.4\n",
      "4763    0.0\n",
      "4764    0.0\n",
      "4765    0.0\n",
      "Name: Movie_Vote, Length: 4766, dtype: float64\n"
     ]
    }
   ],
   "source": [
    "dta['Movie_Vote'] = pd.to_numeric(dta['Movie_Vote'], errors='coerce')\n",
    "print(dta['Movie_Vote'])"
   ]
  },
  {
   "cell_type": "code",
   "execution_count": 36,
   "id": "49ee5124-a185-45a0-82db-ebc93e7130cc",
   "metadata": {},
   "outputs": [
    {
     "data": {
      "text/plain": [
       "Movie_ID                                           3934.0\n",
       "Movie_Title                              Stiff Upper Lips\n",
       "Movie_Genre                                        Comedy\n",
       "Movie_Language                                         en\n",
       "Movie_Budget                                          0.0\n",
       "Movie_Popularity                                 0.356495\n",
       "Movie_Release_Date                              12/6/1998\n",
       "Movie_Revenue                                         0.0\n",
       "Movie_Runtime                                        99.0\n",
       "Movie_Vote                                           10.0\n",
       "Movie_Vote_Count                                      1.0\n",
       "Movie_Homepage                                           \n",
       "Movie_Keywords        italy victorian england young woman\n",
       "Movie_Director                                Gary Sinyor\n",
       "Name: 3935, dtype: object"
      ]
     },
     "execution_count": 36,
     "metadata": {},
     "output_type": "execute_result"
    }
   ],
   "source": [
    "top_voted_movie = dta.sort_values(by='Movie_Vote', ascending=False).iloc[0]\n",
    "top_voted_movie"
   ]
  },
  {
   "cell_type": "markdown",
   "id": "9e582993-4ebb-4925-a2af-e06477edd3f0",
   "metadata": {},
   "source": [
    "# Explaination"
   ]
  },
  {
   "cell_type": "code",
   "execution_count": null,
   "id": "746a4e05-b413-4ac1-a810-655c1505008b",
   "metadata": {},
   "outputs": [],
   "source": [
    "# 368 movies made based on drama which is the highest number of movies.\n",
    "# In 2008, highest number movies have made.\n",
    "# \"Stiff Upper Lips\" has the highest rating among all movies.\n"
   ]
  }
 ],
 "metadata": {
  "kernelspec": {
   "display_name": "Python 3 (ipykernel)",
   "language": "python",
   "name": "python3"
  },
  "language_info": {
   "codemirror_mode": {
    "name": "ipython",
    "version": 3
   },
   "file_extension": ".py",
   "mimetype": "text/x-python",
   "name": "python",
   "nbconvert_exporter": "python",
   "pygments_lexer": "ipython3",
   "version": "3.12.4"
  }
 },
 "nbformat": 4,
 "nbformat_minor": 5
}
